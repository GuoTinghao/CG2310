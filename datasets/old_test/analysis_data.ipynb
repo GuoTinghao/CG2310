{
 "cells": [
  {
   "cell_type": "code",
   "execution_count": 1,
   "metadata": {},
   "outputs": [],
   "source": [
    "import numpy as np\n",
    "data = np.load('./rmd17.npz')"
   ]
  },
  {
   "cell_type": "code",
   "execution_count": 2,
   "metadata": {},
   "outputs": [
    {
     "name": "stdout",
     "output_type": "stream",
     "text": [
      "['nuclear_charges', 'coords']\n"
     ]
    }
   ],
   "source": [
    "print(data.files)"
   ]
  },
  {
   "cell_type": "code",
   "execution_count": 3,
   "metadata": {},
   "outputs": [],
   "source": [
    "test_data_charges = data['nuclear_charges']\n",
    "test_data_coords = data['coords']"
   ]
  },
  {
   "cell_type": "markdown",
   "metadata": {},
   "source": [
    "## 1.分析测试集各个分子的原子类型分布与训练集的区别\n",
    "通过对比可以发现，测试集的`rmd17.npz`数据集是由train中10种不同分子、每种1000个构象组成的\n",
    "\n",
    "因此可以将`rmd17.npz`按照训练集的划分方法分割成对应的10个子数据集"
   ]
  },
  {
   "cell_type": "code",
   "execution_count": 4,
   "metadata": {},
   "outputs": [
    {
     "name": "stdout",
     "output_type": "stream",
     "text": [
      "[6 6 6 6 6 6 6 8 8 8 6 6 8 1 1 1 1 1 1 1 1] 1000\n",
      "[7 7 6 6 6 6 6 6 6 6 6 6 6 6 1 1 1 1 1 1 1 1 1 1] 1000\n",
      "[6 6 6 6 6 6 1 1 1 1 1 1] 1000\n",
      "[6 6 8 1 1 1 1 1 1] 1000\n",
      "[6 6 6 8 8 1 1 1 1] 1000\n",
      "[6 6 6 6 6 6 6 6 6 6 1 1 1 1 1 1 1 1] 1000\n",
      "[6 6 8 7 6 6 6 6 8 6 6 1 1 1 1 1 1 1 1 1] 1000\n",
      "[6 6 6 8 6 6 6 6 8 8 1 1 1 1 1 1] 1000\n",
      "[6 6 6 6 6 6 6 1 1 1 1 1 1 1 1] 1000\n",
      "[6 6 7 6 7 6 8 8 1 1 1 1] 1000\n",
      "============================\n",
      "[6 6 6 6 6 6 6 8 8 8 6 6 8 1 1 1 1 1 1 1 1] 999\n",
      "[7 7 6 6 6 6 6 6 6 6 6 6 6 6 1 1 1 1 1 1 1 1 1 1] 1999\n",
      "[6 6 6 6 6 6 1 1 1 1 1 1] 2999\n",
      "[6 6 8 1 1 1 1 1 1] 3999\n",
      "[6 6 6 8 8 1 1 1 1] 4999\n",
      "[6 6 6 6 6 6 6 6 6 6 1 1 1 1 1 1 1 1] 5999\n",
      "[6 6 8 7 6 6 6 6 8 6 6 1 1 1 1 1 1 1 1 1] 6999\n",
      "[6 6 6 8 6 6 6 6 8 8 1 1 1 1 1 1] 7999\n",
      "[6 6 6 6 6 6 6 1 1 1 1 1 1 1 1] 8999\n",
      "[6 6 7 6 7 6 8 8 1 1 1 1] 9999\n"
     ]
    }
   ],
   "source": [
    "diff_map = {}\n",
    "last_idx ={}\n",
    "for i, charge in enumerate(test_data_charges):\n",
    "    atom_type = charge[charge != 0]\n",
    "    key = str(atom_type)\n",
    "    if key in diff_map:\n",
    "        diff_map[key] += 1\n",
    "    else:\n",
    "        diff_map[key] = 1\n",
    "    last_idx[key] = i\n",
    "\n",
    "for k, v in diff_map.items():\n",
    "    print(k, v)\n",
    "print('============================')\n",
    "for k, v in last_idx.items():\n",
    "    print(k, v)"
   ]
  },
  {
   "cell_type": "code",
   "execution_count": 5,
   "metadata": {},
   "outputs": [],
   "source": [
    "train_data_files = ['rmd17_aspirin.npz', 'rmd17_azobenzene.npz', 'rmd17_benzene.npz', 'rmd17_ethanol.npz', \n",
    "                'rmd17_malonaldehyde.npz', 'rmd17_naphthalene.npz', 'rmd17_paracetamol.npz', 'rmd17_salicylic.npz', \n",
    "                'rmd17_toluene.npz', 'rmd17_uracil.npz']"
   ]
  },
  {
   "cell_type": "code",
   "execution_count": 6,
   "metadata": {},
   "outputs": [
    {
     "name": "stdout",
     "output_type": "stream",
     "text": [
      "rmd17_aspirin.npz\n",
      "[6 6 6 6 6 6 6 8 8 8 6 6 8 1 1 1 1 1 1 1 1] 21\n",
      "rmd17_azobenzene.npz\n",
      "[7 7 6 6 6 6 6 6 6 6 6 6 6 6 1 1 1 1 1 1 1 1 1 1] 24\n",
      "rmd17_benzene.npz\n",
      "[6 6 6 6 6 6 1 1 1 1 1 1] 12\n",
      "rmd17_ethanol.npz\n",
      "[6 6 8 1 1 1 1 1 1] 9\n",
      "rmd17_malonaldehyde.npz\n",
      "[6 6 6 8 8 1 1 1 1] 9\n",
      "rmd17_naphthalene.npz\n",
      "[6 6 6 6 6 6 6 6 6 6 1 1 1 1 1 1 1 1] 18\n",
      "rmd17_paracetamol.npz\n",
      "[6 6 8 7 6 6 6 6 8 6 6 1 1 1 1 1 1 1 1 1] 20\n",
      "rmd17_salicylic.npz\n",
      "[6 6 6 8 6 6 6 6 8 8 1 1 1 1 1 1] 16\n",
      "rmd17_toluene.npz\n",
      "[6 6 6 6 6 6 6 1 1 1 1 1 1 1 1] 15\n",
      "rmd17_uracil.npz\n",
      "[6 6 7 6 7 6 8 8 1 1 1 1] 12\n"
     ]
    }
   ],
   "source": [
    "for file in train_data_files:\n",
    "    dataset = np.load('../old_train/' + file)\n",
    "    train_data_charges = dataset['nuclear_charges']\n",
    "    print(file)\n",
    "    print(str(train_data_charges), train_data_charges.shape[0])"
   ]
  },
  {
   "cell_type": "markdown",
   "metadata": {},
   "source": [
    "## 2.划分子数据集并利用rdkit补充化学键信息"
   ]
  },
  {
   "cell_type": "code",
   "execution_count": 7,
   "metadata": {},
   "outputs": [],
   "source": [
    "from rdkit import Chem, Geometry\n",
    "from rdkit.Chem import Draw, rdDetermineBonds, AllChem\n",
    "from rdkit.Chem.Draw import IPythonConsole\n",
    "IPythonConsole.ipython_3d = True\n",
    "import rdkit\n",
    "import re\n",
    "\n",
    "split_indices = [1000, 2000, 3000, 4000, 5000, 6000, 7000, 8000, 9000]\n",
    "data_list_type = np.split(test_data_charges, split_indices)\n",
    "data_list_coords = np.split(test_data_coords, split_indices)"
   ]
  },
  {
   "cell_type": "markdown",
   "metadata": {},
   "source": [
    "以下模块需要运行10次，每次运行改变`idx`的值\n",
    "\n",
    "然后通过尝试不同的'coord_idx'挑选出合理的分子构象（rdkit在某些不太合理的构象上无法预测化学键）进行化学键预测"
   ]
  },
  {
   "cell_type": "code",
   "execution_count": 8,
   "metadata": {},
   "outputs": [],
   "source": [
    "idx = 0\n",
    "data_file = train_data_files[idx]\n",
    "data_charges = data_list_type[idx][0]\n",
    "data_charges = data_charges[data_charges != 0]\n",
    "\n",
    "data_coords = []\n",
    "for coords in data_list_coords[idx]:\n",
    "    data_coords.append(coords[coords != 0].reshape(-1, 3))\n",
    "data_coords = np.array(data_coords)"
   ]
  },
  {
   "cell_type": "code",
   "execution_count": 9,
   "metadata": {},
   "outputs": [
    {
     "data": {
      "image/png": "[encoded data removed]",
      "text/plain": [
       "<PIL.PngImagePlugin.PngImageFile image mode=RGB size=300x300>"
      ]
     },
     "execution_count": 9,
     "metadata": {},
     "output_type": "execute_result"
    }
   ],
   "source": [
    "coord_idx = 6\n",
    "rd_mol = Chem.RWMol()\n",
    "mol_num = data_charges.shape[0]\n",
    "rd_conf = Chem.Conformer(int(mol_num))\n",
    "for i in range(mol_num):\n",
    "    rd_atom = Chem.Atom(int(data_charges[i]))\n",
    "    rd_mol.AddAtom(rd_atom)\n",
    "    rd_coords = Geometry.Point3D(float(data_coords[coord_idx][i][0]), \n",
    "                                 float(data_coords[coord_idx][i][1]), \n",
    "                                 float(data_coords[coord_idx][i][2]))\n",
    "    rd_conf.SetAtomPosition(i, rd_coords)\n",
    "rd_mol.AddConformer(rd_conf)\n",
    "mol = rd_mol.GetMol()\n",
    "conn_mol = Chem.Mol(mol)\n",
    "rdDetermineBonds.DetermineBonds(conn_mol,charge=0)\n",
    "Draw.MolToImage(conn_mol)"
   ]
  },
  {
   "cell_type": "code",
   "execution_count": 10,
   "metadata": {},
   "outputs": [
    {
     "name": "stdout",
     "output_type": "stream",
     "text": [
      "21 21\n"
     ]
    }
   ],
   "source": [
    "print(conn_mol.GetNumAtoms(),conn_mol.GetNumBonds())"
   ]
  },
  {
   "cell_type": "code",
   "execution_count": 11,
   "metadata": {},
   "outputs": [
    {
     "name": "stdout",
     "output_type": "stream",
     "text": [
      "[[ 1  3  2]\n",
      " [ 1  6  1]\n",
      " [ 1 15  1]\n",
      " [ 2  4  2]\n",
      " [ 2  7  1]\n",
      " [ 2 16  1]\n",
      " [ 3  4  1]\n",
      " [ 3 17  1]\n",
      " [ 4 18  1]\n",
      " [ 5 12  1]\n",
      " [ 5 19  1]\n",
      " [ 5 20  1]\n",
      " [ 5 21  1]\n",
      " [ 6  7  2]\n",
      " [ 6 11  1]\n",
      " [ 7 13  1]\n",
      " [ 8 11  2]\n",
      " [ 9 12  2]\n",
      " [10 11  1]\n",
      " [10 14  1]\n",
      " [12 13  1]]\n"
     ]
    }
   ],
   "source": [
    "statis = Chem.MolToMolBlock(conn_mol)\n",
    "bonds = re.findall(r'([1-9][0-9^.]*)\\s+([1-9][0-9^.]*)\\s+([1-9^.])\\s+0\\s+', statis)#键信息\n",
    "data_bonds = np.array(bonds).astype(int)\n",
    "print(data_bonds)"
   ]
  },
  {
   "cell_type": "code",
   "execution_count": 12,
   "metadata": {},
   "outputs": [],
   "source": [
    "save_file = data_file.split('.')\n",
    "save_file = '../test/' + save_file[0] +'_new.' + save_file[1]\n",
    "\n",
    "np.savez(data_file, nuclear_charges=data_charges, \n",
    "         coords=data_coords, bonds=data_bonds)"
   ]
  }
 ],
 "metadata": {
  "kernelspec": {
   "display_name": "ggnn",
   "language": "python",
   "name": "python3"
  },
  "language_info": {
   "codemirror_mode": {
    "name": "ipython",
    "version": 3
   },
   "file_extension": ".py",
   "mimetype": "text/x-python",
   "name": "python",
   "nbconvert_exporter": "python",
   "pygments_lexer": "ipython3",
   "version": "3.8.17"
  },
  "orig_nbformat": 4
 },
 "nbformat": 4,
 "nbformat_minor": 2
}
