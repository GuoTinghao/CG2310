{
 "cells": [
  {
   "cell_type": "code",
   "execution_count": 1,
   "metadata": {},
   "outputs": [],
   "source": [
    "import numpy as np\n",
    "from rdkit import Chem, Geometry\n",
    "from rdkit.Chem import Draw, rdDetermineBonds, AllChem\n",
    "from rdkit.Chem.Draw import IPythonConsole\n",
    "IPythonConsole.ipython_3d = True\n",
    "import rdkit\n",
    "import re\n",
    "data_files = ['rmd17_aspirin.npz', 'rmd17_azobenzene.npz', 'rmd17_benzene.npz', 'rmd17_ethanol.npz', \n",
    "                'rmd17_malonaldehyde.npz', 'rmd17_naphthalene.npz', 'rmd17_paracetamol.npz', 'rmd17_salicylic.npz', \n",
    "                'rmd17_toluene.npz', 'rmd17_uracil.npz']"
   ]
  },
  {
   "cell_type": "code",
   "execution_count": 2,
   "metadata": {},
   "outputs": [
    {
     "name": "stdout",
     "output_type": "stream",
     "text": [
      "['nuclear_charges', 'coords', 'energies', 'forces']\n"
     ]
    }
   ],
   "source": [
    "idx = 0\n",
    "dataset = np.load(data_files[idx])\n",
    "print(dataset.files)"
   ]
  },
  {
   "cell_type": "code",
   "execution_count": 3,
   "metadata": {},
   "outputs": [],
   "source": [
    "data_charges = dataset['nuclear_charges']\n",
    "data_coords = dataset['coords']\n",
    "data_energies = dataset['energies']\n",
    "data_forces = dataset['forces']"
   ]
  },
  {
   "cell_type": "markdown",
   "metadata": {},
   "source": [
    "# 1.利用rdkit添加化学键信息\n",
    "具体做法参考`old_test`文件夹下的`analysis_data.ipynb`中的有关部分"
   ]
  },
  {
   "cell_type": "code",
   "execution_count": 181,
   "metadata": {},
   "outputs": [
    {
     "data": {
      "image/png": "[encoded data removed]",
      "text/plain": [
       "<PIL.PngImagePlugin.PngImageFile image mode=RGB size=300x300>"
      ]
     },
     "execution_count": 181,
     "metadata": {},
     "output_type": "execute_result"
    }
   ],
   "source": [
    "coord_idx = 6\n",
    "rd_mol = Chem.RWMol()\n",
    "mol_num = data_charges.shape[0]\n",
    "rd_conf = Chem.Conformer(int(mol_num))\n",
    "for i in range(mol_num):\n",
    "    rd_atom = Chem.Atom(int(data_charges[i]))\n",
    "    rd_mol.AddAtom(rd_atom)\n",
    "    rd_coords = Geometry.Point3D(float(data_coords[coord_idx][i][0]), \n",
    "                                 float(data_coords[coord_idx][i][1]), \n",
    "                                 float(data_coords[coord_idx][i][2]))\n",
    "    rd_conf.SetAtomPosition(i, rd_coords)\n",
    "rd_mol.AddConformer(rd_conf)\n",
    "mol = rd_mol.GetMol()\n",
    "conn_mol = Chem.Mol(mol)\n",
    "rdDetermineBonds.DetermineBonds(conn_mol,charge=0)\n",
    "Draw.MolToImage(conn_mol)"
   ]
  },
  {
   "cell_type": "code",
   "execution_count": 182,
   "metadata": {},
   "outputs": [
    {
     "name": "stdout",
     "output_type": "stream",
     "text": [
      "12 12\n"
     ]
    }
   ],
   "source": [
    "print(conn_mol.GetNumAtoms(),conn_mol.GetNumBonds())"
   ]
  },
  {
   "cell_type": "code",
   "execution_count": 136,
   "metadata": {},
   "outputs": [
    {
     "name": "stdout",
     "output_type": "stream",
     "text": [
      "[[ 1  2  2]\n",
      " [ 1  6  1]\n",
      " [ 1 12  1]\n",
      " [ 2  3  1]\n",
      " [ 2  9  1]\n",
      " [ 3  4  1]\n",
      " [ 3 10  1]\n",
      " [ 4  5  1]\n",
      " [ 4  7  2]\n",
      " [ 5  6  1]\n",
      " [ 5 11  1]\n",
      " [ 6  8  2]]\n"
     ]
    }
   ],
   "source": [
    "statis = Chem.MolToMolBlock(conn_mol)\n",
    "bonds = re.findall(r'([1-9][0-9^.]*)\\s+([1-9][0-9^.]*)\\s+([1-9^.])\\s+0\\s+', statis)#键信息\n",
    "data_bonds = np.array(bonds).astype(int)\n",
    "print(data_bonds)"
   ]
  },
  {
   "cell_type": "code",
   "execution_count": 138,
   "metadata": {},
   "outputs": [],
   "source": [
    "save_file = data_files[idx].split('.')\n",
    "save_file = '../train/' + save_file[0] +'_new.' + save_file[1]\n",
    "np.savez(save_file, nuclear_charges=data_charges, \n",
    "         coords=data_coords, energies=data_energies, \n",
    "         forces=data_forces, bonds=data_bonds)"
   ]
  }
 ],
 "metadata": {
  "kernelspec": {
   "display_name": "ggnn",
   "language": "python",
   "name": "python3"
  },
  "language_info": {
   "codemirror_mode": {
    "name": "ipython",
    "version": 3
   },
   "file_extension": ".py",
   "mimetype": "text/x-python",
   "name": "python",
   "nbconvert_exporter": "python",
   "pygments_lexer": "ipython3",
   "version": "3.8.17"
  },
  "orig_nbformat": 4
 },
 "nbformat": 4,
 "nbformat_minor": 2
}
