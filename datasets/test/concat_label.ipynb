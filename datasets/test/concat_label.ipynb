{
 "cells": [
  {
   "cell_type": "code",
   "execution_count": 1,
   "metadata": {},
   "outputs": [],
   "source": [
    "import numpy as np\n",
    "\n",
    "data_files = ['rmd17_aspirin_label.npz', 'rmd17_azobenzene_label.npz', 'rmd17_benzene_label.npz', 'rmd17_ethanol_label.npz', \n",
    "                'rmd17_malonaldehyde_label.npz', 'rmd17_naphthalene_label.npz', 'rmd17_paracetamol_label.npz', \n",
    "                'rmd17_salicylic_label.npz',  'rmd17_toluene_label.npz', 'rmd17_uracil_label.npz']"
   ]
  },
  {
   "cell_type": "code",
   "execution_count": 2,
   "metadata": {},
   "outputs": [],
   "source": [
    "result_energies, result_forces = [], []\n",
    "for file in data_files:\n",
    "    data = np.load(file)\n",
    "    energies = data['energies']\n",
    "    result_energies.append(energies)\n",
    "\n",
    "    forces = data['forces']\n",
    "    forces = np.pad(forces, ((0, 0), (0, 24 - forces.shape[1]), (0, 0)), 'constant')\n",
    "    result_forces.append(forces)\n",
    "\n",
    "result_energies = np.concatenate(result_energies, axis=0)\n",
    "result_forces = np.concatenate(result_forces, axis=0)"
   ]
  },
  {
   "cell_type": "code",
   "execution_count": 3,
   "metadata": {},
   "outputs": [
    {
     "name": "stdout",
     "output_type": "stream",
     "text": [
      "(10000,)\n",
      "(10000, 24, 3)\n"
     ]
    }
   ],
   "source": [
    "print(result_energies.shape)\n",
    "print(result_forces.shape)"
   ]
  },
  {
   "cell_type": "code",
   "execution_count": 4,
   "metadata": {},
   "outputs": [],
   "source": [
    "np.savez('rmd17_label.npz',\n",
    "        energies=result_energies,\n",
    "        forces=result_forces)"
   ]
  }
 ],
 "metadata": {
  "kernelspec": {
   "display_name": "CG2310",
   "language": "python",
   "name": "python3"
  },
  "language_info": {
   "codemirror_mode": {
    "name": "ipython",
    "version": 3
   },
   "file_extension": ".py",
   "mimetype": "text/x-python",
   "name": "python",
   "nbconvert_exporter": "python",
   "pygments_lexer": "ipython3",
   "version": "3.8.17"
  },
  "orig_nbformat": 4
 },
 "nbformat": 4,
 "nbformat_minor": 2
}
